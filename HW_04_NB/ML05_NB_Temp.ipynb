{
 "cells": [
  {
   "cell_type": "code",
   "execution_count": 1,
   "id": "d96019ab",
   "metadata": {},
   "outputs": [],
   "source": [
    "# Name : Dimpal Lad\n",
    "# CWID : 20023001\n",
    "# Assignment No : 04\n",
    "# Assignment Name : HW04_NB"
   ]
  },
  {
   "cell_type": "code",
   "execution_count": 6,
   "id": "d71232e8",
   "metadata": {},
   "outputs": [],
   "source": [
    "import pandas as pd\n",
    "from sklearn.model_selection import train_test_split\n",
    "from sklearn.naive_bayes import CategoricalNB\n",
    "from sklearn.preprocessing import OneHotEncoder\n",
    "from sklearn.compose import ColumnTransformer\n",
    "from sklearn.pipeline import Pipeline\n",
    "from sklearn.metrics import accuracy_score"
   ]
  },
  {
   "cell_type": "code",
   "execution_count": 7,
   "id": "a4762b29",
   "metadata": {},
   "outputs": [
    {
     "name": "stdout",
     "output_type": "stream",
     "text": [
      "Empty DataFrame\n",
      "Columns: [F1, F2, F3, F4, F5, F6, F7, F8, F9, Class]\n",
      "Index: []\n"
     ]
    }
   ],
   "source": [
    "# Load the breast cancer dataset \n",
    "df = pd.read_csv('C:/Users/dimpa/OneDrive - stevens.edu/CS-513/HW_04_NB/breast-cancer-wisconsin.csv')\n",
    "\n",
    "# Drop irrelevant column\n",
    "df.drop(columns=['Sample'], inplace=True)\n",
    "\n",
    "df['F6'] = pd.to_numeric(df['F6'], errors='coerce') #Converting the datavalue\n",
    "df['F6'].fillna(df['F6'].mean(),inplace=True)\n",
    "df = df.dropna() # drops NaN values \n",
    "print(df[df.isna().any(axis=1)]) # shows NaN values in data frame if it exists"
   ]
  },
  {
   "cell_type": "code",
   "execution_count": 8,
   "id": "25b0d6bf",
   "metadata": {},
   "outputs": [],
   "source": [
    "#Drop column that we want to predict the result\n",
    "attr = df.drop('Class', axis=1)\n",
    "target = df['Class']"
   ]
  },
  {
   "cell_type": "code",
   "execution_count": 9,
   "id": "fddbdb28",
   "metadata": {},
   "outputs": [
    {
     "name": "stdout",
     "output_type": "stream",
     "text": [
      "Accuracy: 0.9809523809523809\n"
     ]
    }
   ],
   "source": [
    "# Split the data into training and testing sets\n",
    "attr_train, attr_test, target_train, target_test = train_test_split(attr, target, test_size=0.3, random_state=4)\n",
    "\n",
    "# Concatenate training and testing data for preprocessing\n",
    "categorical_columns=['F1', 'F2', 'F3', 'F4', 'F5', 'F6', 'F7', 'F8', 'F9']\n",
    "\n",
    "# Create preprocessor for categorical data\n",
    "preprocessor = ColumnTransformer(\n",
    "    transformers=[\n",
    "        ('cat', OneHotEncoder(sparse_output=False), categorical_columns) ])\n",
    "\n",
    "# Create a Categorical Naive Bayes model\n",
    "cnb = CategoricalNB()\n",
    "\n",
    "# Create a pipeline with preprocessing and model\n",
    "model = Pipeline(steps=[('preprocessor', preprocessor),\n",
    "                        ('classifier', cnb)])\n",
    "\n",
    "# Train the model\n",
    "model.fit(attr_train, target_train)\n",
    "\n",
    "# Make predictions on the test set\n",
    "target_pred = model.predict(attr_test)\n",
    "\n",
    "# Evaluate the accuracy\n",
    "accuracy = accuracy_score(target_test, target_pred)\n",
    "print(f'Accuracy: {accuracy}')"
   ]
  },
  {
   "cell_type": "code",
   "execution_count": null,
   "id": "0d38e27c",
   "metadata": {},
   "outputs": [],
   "source": []
  }
 ],
 "metadata": {
  "kernelspec": {
   "display_name": "Python 3 (ipykernel)",
   "language": "python",
   "name": "python3"
  },
  "language_info": {
   "codemirror_mode": {
    "name": "ipython",
    "version": 3
   },
   "file_extension": ".py",
   "mimetype": "text/x-python",
   "name": "python",
   "nbconvert_exporter": "python",
   "pygments_lexer": "ipython3",
   "version": "3.11.4"
  }
 },
 "nbformat": 4,
 "nbformat_minor": 5
}
