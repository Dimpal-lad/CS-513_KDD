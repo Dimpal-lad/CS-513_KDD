{
 "cells": [
  {
   "cell_type": "code",
   "execution_count": null,
   "id": "efe52708",
   "metadata": {},
   "outputs": [],
   "source": [
    "pip install pydot"
   ]
  },
  {
   "cell_type": "code",
   "execution_count": null,
   "id": "0b54f2b2",
   "metadata": {},
   "outputs": [],
   "source": [
    "pip install graphviz"
   ]
  },
  {
   "cell_type": "code",
   "execution_count": null,
   "id": "e9cc27db",
   "metadata": {
    "scrolled": false
   },
   "outputs": [],
   "source": [
    "pip install --upgrade tensorflow\n"
   ]
  },
  {
   "cell_type": "code",
   "execution_count": 15,
   "id": "e80eafef",
   "metadata": {},
   "outputs": [
    {
     "name": "stdout",
     "output_type": "stream",
     "text": [
      "2.14.0\n"
     ]
    }
   ],
   "source": [
    "import tensorflow as tf\n",
    "print(tf.__version__)"
   ]
  },
  {
   "cell_type": "code",
   "execution_count": 16,
   "id": "ab976d3c",
   "metadata": {},
   "outputs": [],
   "source": [
    "import seaborn as sns\n",
    "import pandas as pd\n",
    "import numpy as np\n",
    "\n",
    "from tensorflow.keras.layers import Dense, Dropout, Activation\n",
    "from tensorflow.keras.models import Model, Sequential\n",
    "from tensorflow.keras.optimizers import Adam"
   ]
  },
  {
   "cell_type": "code",
   "execution_count": 17,
   "id": "52bf3c75",
   "metadata": {},
   "outputs": [
    {
     "data": {
      "text/html": [
       "<div>\n",
       "<style scoped>\n",
       "    .dataframe tbody tr th:only-of-type {\n",
       "        vertical-align: middle;\n",
       "    }\n",
       "\n",
       "    .dataframe tbody tr th {\n",
       "        vertical-align: top;\n",
       "    }\n",
       "\n",
       "    .dataframe thead th {\n",
       "        text-align: right;\n",
       "    }\n",
       "</style>\n",
       "<table border=\"1\" class=\"dataframe\">\n",
       "  <thead>\n",
       "    <tr style=\"text-align: right;\">\n",
       "      <th></th>\n",
       "      <th>sepal_length</th>\n",
       "      <th>sepal_width</th>\n",
       "      <th>petal_length</th>\n",
       "      <th>petal_width</th>\n",
       "      <th>species</th>\n",
       "    </tr>\n",
       "  </thead>\n",
       "  <tbody>\n",
       "    <tr>\n",
       "      <th>0</th>\n",
       "      <td>5.1</td>\n",
       "      <td>3.5</td>\n",
       "      <td>1.4</td>\n",
       "      <td>0.2</td>\n",
       "      <td>setosa</td>\n",
       "    </tr>\n",
       "    <tr>\n",
       "      <th>1</th>\n",
       "      <td>4.9</td>\n",
       "      <td>3.0</td>\n",
       "      <td>1.4</td>\n",
       "      <td>0.2</td>\n",
       "      <td>setosa</td>\n",
       "    </tr>\n",
       "    <tr>\n",
       "      <th>2</th>\n",
       "      <td>4.7</td>\n",
       "      <td>3.2</td>\n",
       "      <td>1.3</td>\n",
       "      <td>0.2</td>\n",
       "      <td>setosa</td>\n",
       "    </tr>\n",
       "    <tr>\n",
       "      <th>3</th>\n",
       "      <td>4.6</td>\n",
       "      <td>3.1</td>\n",
       "      <td>1.5</td>\n",
       "      <td>0.2</td>\n",
       "      <td>setosa</td>\n",
       "    </tr>\n",
       "    <tr>\n",
       "      <th>4</th>\n",
       "      <td>5.0</td>\n",
       "      <td>3.6</td>\n",
       "      <td>1.4</td>\n",
       "      <td>0.2</td>\n",
       "      <td>setosa</td>\n",
       "    </tr>\n",
       "  </tbody>\n",
       "</table>\n",
       "</div>"
      ],
      "text/plain": [
       "   sepal_length  sepal_width  petal_length  petal_width species\n",
       "0           5.1          3.5           1.4          0.2  setosa\n",
       "1           4.9          3.0           1.4          0.2  setosa\n",
       "2           4.7          3.2           1.3          0.2  setosa\n",
       "3           4.6          3.1           1.5          0.2  setosa\n",
       "4           5.0          3.6           1.4          0.2  setosa"
      ]
     },
     "execution_count": 17,
     "metadata": {},
     "output_type": "execute_result"
    }
   ],
   "source": [
    "## import dataset\n",
    "iris_data=sns.load_dataset('iris')\n",
    "iris_data.head()"
   ]
  },
  {
   "cell_type": "code",
   "execution_count": 18,
   "id": "e79fc676",
   "metadata": {},
   "outputs": [
    {
     "name": "stdout",
     "output_type": "stream",
     "text": [
      "(150, 4)\n",
      "(150, 3)\n"
     ]
    }
   ],
   "source": [
    "attr=iris_data.drop(['species'],axis=1)\n",
    "target=pd.get_dummies(iris_data.species,prefix='ouput')\n",
    "print(attr.shape)\n",
    "print(target.shape)"
   ]
  },
  {
   "cell_type": "code",
   "execution_count": 19,
   "id": "97d99836",
   "metadata": {},
   "outputs": [
    {
     "name": "stdout",
     "output_type": "stream",
     "text": [
      "<class 'numpy.ndarray'>\n",
      "<class 'numpy.ndarray'>\n",
      "(150, 4)\n",
      "(150, 3)\n"
     ]
    }
   ],
   "source": [
    "## convert the data frames to arrays\n",
    "X=attr.values\n",
    "y=target.values\n",
    "print(type(X))\n",
    "print(type(y))\n",
    "print(X.shape)\n",
    "print(y.shape)"
   ]
  },
  {
   "cell_type": "code",
   "execution_count": 20,
   "id": "e098113f",
   "metadata": {},
   "outputs": [
    {
     "name": "stdout",
     "output_type": "stream",
     "text": [
      "(120, 4)\n",
      "(120, 3)\n",
      "(30, 4)\n",
      "(30, 3)\n"
     ]
    }
   ],
   "source": [
    " #creating test and training\n",
    "from sklearn.model_selection import train_test_split\n",
    "from sklearn.preprocessing import StandardScaler\n",
    "# x_train, x_test, y_train, y_test=train_test_split(x,y,test_size=.20,random_state=100)\n",
    "x_train, x_test, y_train, y_test=train_test_split(X,y,test_size=.20,random_state=100)\n",
    "sc=StandardScaler()\n",
    "x_train=sc.fit_transform(x_train)\n",
    "x_test=sc.fit_transform(x_test)\n",
    "print(x_train.shape)\n",
    "print(y_train.shape)\n",
    "print(x_test.shape)\n",
    "print(y_test.shape)"
   ]
  },
  {
   "cell_type": "code",
   "execution_count": 21,
   "id": "6f6190fb",
   "metadata": {},
   "outputs": [],
   "source": [
    "dropout_rate=0.1\n",
    "epochs=50\n",
    "batch_size=1\n",
    "learn_rate=.001\n",
    "\n",
    "\n",
    "model=Sequential()\n",
    "model.add(Dense(12, input_dim=x_train.shape[1],activation='relu'))\n",
    "model.add(Dropout(dropout_rate))\n",
    "model.add(Dense(6, activation='relu'))\n",
    "model.add(Dropout(dropout_rate))\n",
    "model.add(Dense(y_train.shape[1],activation='softmax'))\n",
    "adam=Adam(learning_rate=learn_rate)\n",
    "model.compile(loss='categorical_crossentropy',optimizer=adam,metrics=['accuracy'])"
   ]
  },
  {
   "cell_type": "code",
   "execution_count": null,
   "id": "0dad0834",
   "metadata": {},
   "outputs": [],
   "source": [
    "## you nee graphviz for ploting\n",
    "# from tensorflow.keras.utils import plot_model\n",
    "# # run in colab for graphviz plot\n",
    "# plot_model(model,to_file='model_plot1.png',show_shapes=True, show_layer_names=True)"
   ]
  },
  {
   "cell_type": "code",
   "execution_count": 22,
   "id": "847de5be",
   "metadata": {},
   "outputs": [
    {
     "data": {
      "text/plain": [
       "<bound method Model.summary of <keras.src.engine.sequential.Sequential object at 0x0000025727577670>>"
      ]
     },
     "execution_count": 22,
     "metadata": {},
     "output_type": "execute_result"
    }
   ],
   "source": [
    " model.summary"
   ]
  },
  {
   "cell_type": "code",
   "execution_count": 23,
   "id": "c1f356c5",
   "metadata": {},
   "outputs": [
    {
     "name": "stdout",
     "output_type": "stream",
     "text": [
      "Epoch 1/50\n",
      "96/96 [==============================] - 1s 4ms/step - loss: 1.0530 - accuracy: 0.3542 - val_loss: 0.9494 - val_accuracy: 0.5833\n",
      "Epoch 2/50\n",
      "96/96 [==============================] - 0s 2ms/step - loss: 0.8891 - accuracy: 0.6042 - val_loss: 0.8102 - val_accuracy: 0.8333\n",
      "Epoch 3/50\n",
      "96/96 [==============================] - 0s 2ms/step - loss: 0.7408 - accuracy: 0.7604 - val_loss: 0.6824 - val_accuracy: 0.8333\n",
      "Epoch 4/50\n",
      "96/96 [==============================] - 0s 2ms/step - loss: 0.6037 - accuracy: 0.7604 - val_loss: 0.6010 - val_accuracy: 0.8333\n",
      "Epoch 5/50\n",
      "96/96 [==============================] - 0s 2ms/step - loss: 0.5442 - accuracy: 0.8438 - val_loss: 0.5262 - val_accuracy: 0.8333\n",
      "Epoch 6/50\n",
      "96/96 [==============================] - 0s 2ms/step - loss: 0.4796 - accuracy: 0.7708 - val_loss: 0.4790 - val_accuracy: 0.8333\n",
      "Epoch 7/50\n",
      "96/96 [==============================] - 0s 2ms/step - loss: 0.4632 - accuracy: 0.7812 - val_loss: 0.4379 - val_accuracy: 0.8333\n",
      "Epoch 8/50\n",
      "96/96 [==============================] - 0s 2ms/step - loss: 0.4020 - accuracy: 0.8229 - val_loss: 0.4000 - val_accuracy: 0.8333\n",
      "Epoch 9/50\n",
      "96/96 [==============================] - 0s 2ms/step - loss: 0.4119 - accuracy: 0.7604 - val_loss: 0.3864 - val_accuracy: 0.8750\n",
      "Epoch 10/50\n",
      "96/96 [==============================] - 0s 2ms/step - loss: 0.3617 - accuracy: 0.8125 - val_loss: 0.3532 - val_accuracy: 0.8750\n",
      "Epoch 11/50\n",
      "96/96 [==============================] - 0s 2ms/step - loss: 0.3694 - accuracy: 0.8229 - val_loss: 0.3352 - val_accuracy: 0.9583\n",
      "Epoch 12/50\n",
      "96/96 [==============================] - 0s 2ms/step - loss: 0.3818 - accuracy: 0.8438 - val_loss: 0.3193 - val_accuracy: 0.9583\n",
      "Epoch 13/50\n",
      "96/96 [==============================] - 0s 2ms/step - loss: 0.3618 - accuracy: 0.8333 - val_loss: 0.3052 - val_accuracy: 0.9583\n",
      "Epoch 14/50\n",
      "96/96 [==============================] - 0s 2ms/step - loss: 0.3238 - accuracy: 0.8854 - val_loss: 0.2899 - val_accuracy: 0.9167\n",
      "Epoch 15/50\n",
      "96/96 [==============================] - 0s 2ms/step - loss: 0.3204 - accuracy: 0.8750 - val_loss: 0.2672 - val_accuracy: 0.9583\n",
      "Epoch 16/50\n",
      "96/96 [==============================] - 0s 2ms/step - loss: 0.3106 - accuracy: 0.8750 - val_loss: 0.2445 - val_accuracy: 0.9583\n",
      "Epoch 17/50\n",
      "96/96 [==============================] - 0s 2ms/step - loss: 0.2960 - accuracy: 0.8854 - val_loss: 0.2356 - val_accuracy: 1.0000\n",
      "Epoch 18/50\n",
      "96/96 [==============================] - 0s 2ms/step - loss: 0.2834 - accuracy: 0.8854 - val_loss: 0.2222 - val_accuracy: 0.9583\n",
      "Epoch 19/50\n",
      "96/96 [==============================] - 0s 2ms/step - loss: 0.2809 - accuracy: 0.8958 - val_loss: 0.2121 - val_accuracy: 0.9583\n",
      "Epoch 20/50\n",
      "96/96 [==============================] - 0s 2ms/step - loss: 0.2886 - accuracy: 0.8542 - val_loss: 0.2035 - val_accuracy: 0.9583\n",
      "Epoch 21/50\n",
      "96/96 [==============================] - 0s 2ms/step - loss: 0.2900 - accuracy: 0.8854 - val_loss: 0.1962 - val_accuracy: 0.9583\n",
      "Epoch 22/50\n",
      "96/96 [==============================] - 0s 2ms/step - loss: 0.2514 - accuracy: 0.8542 - val_loss: 0.1865 - val_accuracy: 1.0000\n",
      "Epoch 23/50\n",
      "96/96 [==============================] - 0s 2ms/step - loss: 0.2648 - accuracy: 0.8958 - val_loss: 0.1838 - val_accuracy: 1.0000\n",
      "Epoch 24/50\n",
      "96/96 [==============================] - 0s 2ms/step - loss: 0.2577 - accuracy: 0.8854 - val_loss: 0.1724 - val_accuracy: 1.0000\n",
      "Epoch 25/50\n",
      "96/96 [==============================] - 0s 2ms/step - loss: 0.2102 - accuracy: 0.9375 - val_loss: 0.1636 - val_accuracy: 1.0000\n",
      "Epoch 26/50\n",
      "96/96 [==============================] - 0s 2ms/step - loss: 0.2606 - accuracy: 0.8958 - val_loss: 0.1594 - val_accuracy: 1.0000\n",
      "Epoch 27/50\n",
      "96/96 [==============================] - 0s 2ms/step - loss: 0.2371 - accuracy: 0.9167 - val_loss: 0.1534 - val_accuracy: 1.0000\n",
      "Epoch 28/50\n",
      "96/96 [==============================] - 0s 2ms/step - loss: 0.2169 - accuracy: 0.9375 - val_loss: 0.1444 - val_accuracy: 1.0000\n",
      "Epoch 29/50\n",
      "96/96 [==============================] - 0s 2ms/step - loss: 0.2168 - accuracy: 0.8958 - val_loss: 0.1328 - val_accuracy: 1.0000\n",
      "Epoch 30/50\n",
      "96/96 [==============================] - 0s 2ms/step - loss: 0.2120 - accuracy: 0.9167 - val_loss: 0.1238 - val_accuracy: 1.0000\n",
      "Epoch 31/50\n",
      "96/96 [==============================] - 0s 2ms/step - loss: 0.2140 - accuracy: 0.9167 - val_loss: 0.1182 - val_accuracy: 1.0000\n",
      "Epoch 32/50\n",
      "96/96 [==============================] - 0s 2ms/step - loss: 0.1995 - accuracy: 0.9271 - val_loss: 0.1122 - val_accuracy: 1.0000\n",
      "Epoch 33/50\n",
      "96/96 [==============================] - 0s 2ms/step - loss: 0.2267 - accuracy: 0.9062 - val_loss: 0.1114 - val_accuracy: 1.0000\n",
      "Epoch 34/50\n",
      "96/96 [==============================] - 0s 2ms/step - loss: 0.1896 - accuracy: 0.9167 - val_loss: 0.1022 - val_accuracy: 1.0000\n",
      "Epoch 35/50\n",
      "96/96 [==============================] - 0s 2ms/step - loss: 0.1862 - accuracy: 0.9375 - val_loss: 0.0921 - val_accuracy: 1.0000\n",
      "Epoch 36/50\n",
      "96/96 [==============================] - 0s 2ms/step - loss: 0.1962 - accuracy: 0.9479 - val_loss: 0.0862 - val_accuracy: 1.0000\n",
      "Epoch 37/50\n",
      "96/96 [==============================] - 0s 2ms/step - loss: 0.1825 - accuracy: 0.9479 - val_loss: 0.0816 - val_accuracy: 1.0000\n",
      "Epoch 38/50\n",
      "96/96 [==============================] - 0s 2ms/step - loss: 0.1601 - accuracy: 0.9479 - val_loss: 0.0788 - val_accuracy: 1.0000\n",
      "Epoch 39/50\n",
      "96/96 [==============================] - 0s 2ms/step - loss: 0.1553 - accuracy: 0.9375 - val_loss: 0.0722 - val_accuracy: 1.0000\n",
      "Epoch 40/50\n",
      "96/96 [==============================] - 0s 2ms/step - loss: 0.1910 - accuracy: 0.9375 - val_loss: 0.0722 - val_accuracy: 1.0000\n",
      "Epoch 41/50\n",
      "96/96 [==============================] - 0s 2ms/step - loss: 0.1457 - accuracy: 0.9688 - val_loss: 0.0671 - val_accuracy: 1.0000\n",
      "Epoch 42/50\n",
      "96/96 [==============================] - 0s 2ms/step - loss: 0.1821 - accuracy: 0.9375 - val_loss: 0.0624 - val_accuracy: 1.0000\n",
      "Epoch 43/50\n",
      "96/96 [==============================] - 0s 2ms/step - loss: 0.1517 - accuracy: 0.9479 - val_loss: 0.0623 - val_accuracy: 1.0000\n",
      "Epoch 44/50\n",
      "96/96 [==============================] - 0s 2ms/step - loss: 0.1663 - accuracy: 0.9375 - val_loss: 0.0601 - val_accuracy: 1.0000\n",
      "Epoch 45/50\n",
      "96/96 [==============================] - 0s 2ms/step - loss: 0.1566 - accuracy: 0.9375 - val_loss: 0.0571 - val_accuracy: 1.0000\n",
      "Epoch 46/50\n",
      "96/96 [==============================] - 0s 2ms/step - loss: 0.1195 - accuracy: 0.9583 - val_loss: 0.0514 - val_accuracy: 1.0000\n",
      "Epoch 47/50\n",
      "96/96 [==============================] - 0s 2ms/step - loss: 0.1175 - accuracy: 0.9792 - val_loss: 0.0489 - val_accuracy: 1.0000\n",
      "Epoch 48/50\n",
      "96/96 [==============================] - 0s 2ms/step - loss: 0.1527 - accuracy: 0.9479 - val_loss: 0.0503 - val_accuracy: 1.0000\n",
      "Epoch 49/50\n",
      "96/96 [==============================] - 0s 2ms/step - loss: 0.1435 - accuracy: 0.9375 - val_loss: 0.0516 - val_accuracy: 1.0000\n",
      "Epoch 50/50\n",
      "96/96 [==============================] - 0s 2ms/step - loss: 0.1195 - accuracy: 0.9479 - val_loss: 0.0469 - val_accuracy: 1.0000\n"
     ]
    }
   ],
   "source": [
    "model_history = model.fit(x_train,y_train, batch_size=batch_size,epochs=epochs,validation_split=.2,verbose=1)"
   ]
  },
  {
   "cell_type": "code",
   "execution_count": 24,
   "id": "6c02dea0",
   "metadata": {
    "scrolled": true
   },
   "outputs": [
    {
     "name": "stdout",
     "output_type": "stream",
     "text": [
      "1/1 [==============================] - 0s 120ms/step - loss: 0.0737 - accuracy: 1.0000\n",
      "Test score: 0.07367659360170364\n",
      "Test Accuracy; 1.0\n"
     ]
    }
   ],
   "source": [
    "accuracies = model.evaluate(x_test, y_test, verbose=1)\n",
    "print(\"Test score:\", accuracies[0])\n",
    "print(\"Test Accuracy;\", accuracies[1])"
   ]
  },
  {
   "cell_type": "code",
   "execution_count": null,
   "id": "38b5f49a",
   "metadata": {},
   "outputs": [],
   "source": [
    "# print(accuracies)"
   ]
  }
 ],
 "metadata": {
  "kernelspec": {
   "display_name": "Python 3 (ipykernel)",
   "language": "python",
   "name": "python3"
  },
  "language_info": {
   "codemirror_mode": {
    "name": "ipython",
    "version": 3
   },
   "file_extension": ".py",
   "mimetype": "text/x-python",
   "name": "python",
   "nbconvert_exporter": "python",
   "pygments_lexer": "ipython3",
   "version": "3.11.4"
  }
 },
 "nbformat": 4,
 "nbformat_minor": 5
}
