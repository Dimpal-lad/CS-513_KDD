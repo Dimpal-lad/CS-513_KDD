{
 "cells": [
  {
   "cell_type": "code",
   "execution_count": null,
   "id": "945aa4ff",
   "metadata": {},
   "outputs": [],
   "source": [
    "\n"
   ]
  },
  {
   "cell_type": "code",
   "execution_count": 4,
   "id": "f05653ff",
   "metadata": {},
   "outputs": [
    {
     "name": "stdout",
     "output_type": "stream",
     "text": [
      "[[0.5 0.7]\n",
      " [0.6 0.9]\n",
      " [0.8 0.8]\n",
      " [0.6 0.4]]\n",
      "\n",
      "[0.5 0.9 0.9]\n",
      "\n",
      "[0.78918171 0.81757448]\n",
      "[1.         0.78918171 0.81757448]\n",
      "0.8750186379920508\n"
     ]
    }
   ],
   "source": [
    "## define the initial weights, input and sigmoid function and caculate the forward feed\n",
    "import numpy as np\n",
    "from scipy.special import expit, logit\n",
    "weight_ih= np.array([ [.5, 0.7], [0.6, 0.9], [0.8 ,0.8], [0.6, 0.4]])\n",
    "print( weight_ih)\n",
    "print()\n",
    "weight_ho=np.array([0.5,0.9,0.9])\n",
    "print(weight_ho)\n",
    "print()\n",
    "i=np.array([1,0.4,0.2,0.7])\n",
    "out_hiddenL=expit(i.dot(weight_ih)) \n",
    "print(out_hiddenL)\n",
    "one=np.array([1])\n",
    "input_outputL=np.concatenate((one,out_hiddenL),axis=0)\n",
    "print(input_outputL)\n",
    "out_outL=expit(input_outputL.dot(weight_ho)) \n",
    "print(out_outL)"
   ]
  },
  {
   "cell_type": "code",
   "execution_count": 6,
   "id": "bd59c041",
   "metadata": {},
   "outputs": [
    {
     "name": "stdout",
     "output_type": "stream",
     "text": [
      "0.07501863799205077\n"
     ]
    }
   ],
   "source": [
    "Actual=.8\n",
    "eta= .1\n",
    "e=out_outL-Actual\n",
    "print(e)\n",
    " "
   ]
  },
  {
   "cell_type": "code",
   "execution_count": 7,
   "id": "3a9f0628",
   "metadata": {},
   "outputs": [
    {
     "name": "stdout",
     "output_type": "stream",
     "text": [
      "-0.008204114856737053\n",
      "[-0.00082041 -0.00064745 -0.00067075]\n"
     ]
    }
   ],
   "source": [
    "delta= -1*(out_outL)*(1-out_outL)*e\n",
    "print(delta)\n",
    "DELTA=eta*delta*input_outputL\n",
    "print(DELTA)\n",
    "#-0.000820411\n",
    "#-0.000647454\n",
    "#-0.000670747"
   ]
  },
  {
   "cell_type": "code",
   "execution_count": 8,
   "id": "57312597",
   "metadata": {},
   "outputs": [
    {
     "name": "stdout",
     "output_type": "stream",
     "text": [
      "[0.49917959 0.89935255 0.89932925]\n",
      "[0.5 0.9 0.9]\n",
      "[-0.0073837 -0.0073837]\n"
     ]
    }
   ],
   "source": [
    "\n",
    "New_ho=weight_ho + DELTA\n",
    "print(New_ho)\n",
    "print(weight_ho)\n",
    "e_hidden=weight_ho[[1,2]].dot(delta)\n",
    "print(e_hidden)\n",
    "#-0.007383703\n",
    "#-0.007383703\n"
   ]
  },
  {
   "cell_type": "code",
   "execution_count": null,
   "id": "457b8303",
   "metadata": {},
   "outputs": [],
   "source": [
    "# delta_h= e_hidden.dot(out_hiddenL.dot(1-out_hiddenL))\n",
    "# print(delta_h)"
   ]
  }
 ],
 "metadata": {
  "kernelspec": {
   "display_name": "Python 3 (ipykernel)",
   "language": "python",
   "name": "python3"
  },
  "language_info": {
   "codemirror_mode": {
    "name": "ipython",
    "version": 3
   },
   "file_extension": ".py",
   "mimetype": "text/x-python",
   "name": "python",
   "nbconvert_exporter": "python",
   "pygments_lexer": "ipython3",
   "version": "3.11.4"
  }
 },
 "nbformat": 4,
 "nbformat_minor": 5
}
